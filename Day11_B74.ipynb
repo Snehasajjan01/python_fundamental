{
 "cells": [
  {
   "cell_type": "code",
   "execution_count": null,
   "id": "51109555",
   "metadata": {},
   "outputs": [],
   "source": [
    "Rules for defining the function:\n",
    "    use small case letters for defining the function name:\n",
    "        we have to use fdef as keyword for defining the function:"
   ]
  },
  {
   "cell_type": "code",
   "execution_count": null,
   "id": "a435c2d3",
   "metadata": {},
   "outputs": [],
   "source": [
    "# req: create a function called describe_pet where it accepts two parameters as animal_type and pet_name"
   ]
  },
  {
   "cell_type": "code",
   "execution_count": 4,
   "id": "852e395f",
   "metadata": {},
   "outputs": [],
   "source": [
    "def describe_pet(animal_type,pet_name):  #parameters\n",
    "    print(f\"i have a {animal_type}\")\n",
    "    print(f\"its name is {pet_name}\")"
   ]
  },
  {
   "cell_type": "code",
   "execution_count": 5,
   "id": "a164f993",
   "metadata": {},
   "outputs": [
    {
     "name": "stdout",
     "output_type": "stream",
     "text": [
      "i have a dog\n",
      "its name is bruno\n"
     ]
    }
   ],
   "source": [
    "describe_pet('dog','bruno') #arguements passing"
   ]
  },
  {
   "cell_type": "code",
   "execution_count": 6,
   "id": "4e225b67",
   "metadata": {},
   "outputs": [
    {
     "name": "stdout",
     "output_type": "stream",
     "text": [
      "i have a rabbit\n",
      "its name is rex\n"
     ]
    }
   ],
   "source": [
    "describe_pet('rabbit','rex')"
   ]
  },
  {
   "cell_type": "code",
   "execution_count": null,
   "id": "c1f861ae",
   "metadata": {},
   "outputs": [],
   "source": [
    "Types of arguments:\n",
    "    1.Positional Argument\n",
    "    2.Keyword Argument\n",
    "    3.Default Arument"
   ]
  },
  {
   "cell_type": "code",
   "execution_count": 7,
   "id": "980cb565",
   "metadata": {},
   "outputs": [
    {
     "name": "stdout",
     "output_type": "stream",
     "text": [
      "i have a timo\n",
      "its name is bird\n"
     ]
    }
   ],
   "source": [
    "describe_pet('timo','bird')"
   ]
  },
  {
   "cell_type": "code",
   "execution_count": 8,
   "id": "e1e70b0b",
   "metadata": {},
   "outputs": [
    {
     "name": "stdout",
     "output_type": "stream",
     "text": [
      "i have a bird\n",
      "its name is timo\n"
     ]
    }
   ],
   "source": [
    "describe_pet(pet_name='timo',animal_type='bird')"
   ]
  },
  {
   "cell_type": "code",
   "execution_count": null,
   "id": "652b165f",
   "metadata": {},
   "outputs": [],
   "source": [
    "describe_pet('timo','bird')"
   ]
  },
  {
   "cell_type": "code",
   "execution_count": 9,
   "id": "7b010fa1",
   "metadata": {},
   "outputs": [
    {
     "ename": "SyntaxError",
     "evalue": "EOL while scanning string literal (1236718045.py, line 1)",
     "output_type": "error",
     "traceback": [
      "\u001b[1;36m  File \u001b[1;32m\"C:\\Users\\Administrator\\AppData\\Local\\Temp\\ipykernel_9904\\1236718045.py\"\u001b[1;36m, line \u001b[1;32m1\u001b[0m\n\u001b[1;33m    describe_pet('bruno)\u001b[0m\n\u001b[1;37m                        ^\u001b[0m\n\u001b[1;31mSyntaxError\u001b[0m\u001b[1;31m:\u001b[0m EOL while scanning string literal\n"
     ]
    }
   ],
   "source": [
    "describe_pet('bruno)"
   ]
  },
  {
   "cell_type": "code",
   "execution_count": 14,
   "id": "2bf03b6a",
   "metadata": {},
   "outputs": [],
   "source": [
    "def describe_pet(pet_name,animal_type='dog'):\n",
    "    print(f\" i have a {animal_type}\")\n",
    "    print(f\" its name is {pet_name}\")"
   ]
  },
  {
   "cell_type": "code",
   "execution_count": 15,
   "id": "b5308213",
   "metadata": {},
   "outputs": [
    {
     "name": "stdout",
     "output_type": "stream",
     "text": [
      " i have a dog\n",
      " its name is bruno\n"
     ]
    }
   ],
   "source": [
    "describe_pet('bruno')"
   ]
  },
  {
   "cell_type": "code",
   "execution_count": 16,
   "id": "550d183e",
   "metadata": {},
   "outputs": [
    {
     "name": "stdout",
     "output_type": "stream",
     "text": [
      " i have a rabbit\n",
      " its name is rex\n"
     ]
    }
   ],
   "source": [
    "describe_pet('rex','rabbit')"
   ]
  },
  {
   "cell_type": "code",
   "execution_count": null,
   "id": "5b175880",
   "metadata": {},
   "outputs": [],
   "source": []
  }
 ],
 "metadata": {
  "kernelspec": {
   "display_name": "Python 3 (ipykernel)",
   "language": "python",
   "name": "python3"
  },
  "language_info": {
   "codemirror_mode": {
    "name": "ipython",
    "version": 3
   },
   "file_extension": ".py",
   "mimetype": "text/x-python",
   "name": "python",
   "nbconvert_exporter": "python",
   "pygments_lexer": "ipython3",
   "version": "3.9.13"
  }
 },
 "nbformat": 4,
 "nbformat_minor": 5
}
