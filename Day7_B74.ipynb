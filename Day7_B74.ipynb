{
 "cells": [
  {
   "cell_type": "code",
   "execution_count": null,
   "id": "5a9505a8",
   "metadata": {},
   "outputs": [],
   "source": [
    "Introduction to tuple data type:"
   ]
  },
  {
   "cell_type": "code",
   "execution_count": null,
   "id": "a20fc261",
   "metadata": {},
   "outputs": [],
   "source": [
    "definition:An immutable list is called as a tuple datatype.\n",
    "    classification:it is classified as an immutable datatype\n",
    "        how to declare the tuple datatype----->()"
   ]
  },
  {
   "cell_type": "code",
   "execution_count": 9,
   "id": "9967dfc2",
   "metadata": {},
   "outputs": [],
   "source": [
    "students = ('anand','arshad','naveen','padma','bhanu')"
   ]
  },
  {
   "cell_type": "code",
   "execution_count": 2,
   "id": "8b8e7a76",
   "metadata": {},
   "outputs": [
    {
     "data": {
      "text/plain": [
       "tuple"
      ]
     },
     "execution_count": 2,
     "metadata": {},
     "output_type": "execute_result"
    }
   ],
   "source": [
    "type(students)"
   ]
  },
  {
   "cell_type": "code",
   "execution_count": null,
   "id": "970121f7",
   "metadata": {},
   "outputs": [],
   "source": [
    "#req : i want to change anand name to arun...?"
   ]
  },
  {
   "cell_type": "code",
   "execution_count": 3,
   "id": "efb2806c",
   "metadata": {},
   "outputs": [
    {
     "ename": "TypeError",
     "evalue": "'tuple' object does not support item assignment",
     "output_type": "error",
     "traceback": [
      "\u001b[1;31m---------------------------------------------------------------------------\u001b[0m",
      "\u001b[1;31mTypeError\u001b[0m                                 Traceback (most recent call last)",
      "\u001b[1;32m~\\AppData\\Local\\Temp\\ipykernel_6124\\3199117314.py\u001b[0m in \u001b[0;36m<module>\u001b[1;34m\u001b[0m\n\u001b[1;32m----> 1\u001b[1;33m \u001b[0mstudents\u001b[0m\u001b[1;33m[\u001b[0m\u001b[1;36m0\u001b[0m\u001b[1;33m]\u001b[0m\u001b[1;33m=\u001b[0m\u001b[1;34m'arun'\u001b[0m\u001b[1;33m\u001b[0m\u001b[1;33m\u001b[0m\u001b[0m\n\u001b[0m",
      "\u001b[1;31mTypeError\u001b[0m: 'tuple' object does not support item assignment"
     ]
    }
   ],
   "source": [
    "students[0]='arun'"
   ]
  },
  {
   "cell_type": "code",
   "execution_count": 6,
   "id": "15e819b4",
   "metadata": {},
   "outputs": [],
   "source": [
    "dimensions = (200,50)"
   ]
  },
  {
   "cell_type": "code",
   "execution_count": 7,
   "id": "f281fea1",
   "metadata": {},
   "outputs": [
    {
     "name": "stdout",
     "output_type": "stream",
     "text": [
      "(200, 50)\n"
     ]
    }
   ],
   "source": [
    "print(dimensions)"
   ]
  },
  {
   "cell_type": "code",
   "execution_count": 10,
   "id": "31ed4ac5",
   "metadata": {},
   "outputs": [
    {
     "name": "stdout",
     "output_type": "stream",
     "text": [
      "('anand', 'arshad', 'naveen', 'padma', 'bhanu')\n"
     ]
    }
   ],
   "source": [
    "print(students)"
   ]
  },
  {
   "cell_type": "code",
   "execution_count": 11,
   "id": "0094f8cf",
   "metadata": {},
   "outputs": [
    {
     "name": "stdout",
     "output_type": "stream",
     "text": [
      "Arshad\n"
     ]
    }
   ],
   "source": [
    "print(students[1].title())"
   ]
  },
  {
   "cell_type": "code",
   "execution_count": 12,
   "id": "5e9407bc",
   "metadata": {},
   "outputs": [
    {
     "name": "stdout",
     "output_type": "stream",
     "text": [
      "anand\n",
      "arshad\n",
      "naveen\n",
      "padma\n",
      "bhanu\n"
     ]
    }
   ],
   "source": [
    "for x in students:\n",
    "    print(x)"
   ]
  },
  {
   "cell_type": "code",
   "execution_count": null,
   "id": "59b206f9",
   "metadata": {},
   "outputs": [],
   "source": [
    "Introduction to dictionaries data types:"
   ]
  },
  {
   "cell_type": "code",
   "execution_count": null,
   "id": "c7d98920",
   "metadata": {},
   "outputs": [],
   "source": [
    "definition:a dictionary are a combination of key-value pairs.\n",
    "    classification:it is classified as mutable data type.\n",
    "        how to declare a dictionary: { }"
   ]
  },
  {
   "cell_type": "code",
   "execution_count": null,
   "id": "7865303e",
   "metadata": {},
   "outputs": [],
   "source": []
  },
  {
   "cell_type": "code",
   "execution_count": null,
   "id": "e0129aa6",
   "metadata": {},
   "outputs": [],
   "source": []
  },
  {
   "cell_type": "code",
   "execution_count": null,
   "id": "31fd7e6f",
   "metadata": {},
   "outputs": [],
   "source": []
  },
  {
   "cell_type": "code",
   "execution_count": null,
   "id": "5aacc523",
   "metadata": {},
   "outputs": [],
   "source": []
  },
  {
   "cell_type": "code",
   "execution_count": null,
   "id": "342f7e5b",
   "metadata": {},
   "outputs": [],
   "source": []
  },
  {
   "cell_type": "code",
   "execution_count": null,
   "id": "9a2bb950",
   "metadata": {},
   "outputs": [],
   "source": []
  },
  {
   "cell_type": "code",
   "execution_count": null,
   "id": "0dff1446",
   "metadata": {},
   "outputs": [],
   "source": []
  },
  {
   "cell_type": "code",
   "execution_count": null,
   "id": "6de2ddf6",
   "metadata": {},
   "outputs": [],
   "source": []
  },
  {
   "cell_type": "code",
   "execution_count": null,
   "id": "f0fb0d63",
   "metadata": {},
   "outputs": [],
   "source": []
  },
  {
   "cell_type": "code",
   "execution_count": null,
   "id": "b6aa2cf3",
   "metadata": {},
   "outputs": [],
   "source": []
  }
 ],
 "metadata": {
  "kernelspec": {
   "display_name": "Python 3 (ipykernel)",
   "language": "python",
   "name": "python3"
  },
  "language_info": {
   "codemirror_mode": {
    "name": "ipython",
    "version": 3
   },
   "file_extension": ".py",
   "mimetype": "text/x-python",
   "name": "python",
   "nbconvert_exporter": "python",
   "pygments_lexer": "ipython3",
   "version": "3.9.13"
  }
 },
 "nbformat": 4,
 "nbformat_minor": 5
}
