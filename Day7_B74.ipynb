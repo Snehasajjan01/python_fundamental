{
 "cells": [
  {
   "cell_type": "code",
   "execution_count": null,
   "id": "5a9505a8",
   "metadata": {},
   "outputs": [],
   "source": [
    "Introduction to tuple data type:"
   ]
  },
  {
   "cell_type": "code",
   "execution_count": null,
   "id": "a20fc261",
   "metadata": {},
   "outputs": [],
   "source": [
    "definition:An immutable list is called as a tuple datatype.\n",
    "    classification:it is classified as an immutable datatype\n",
    "        how to declare the tuple datatype----->()"
   ]
  },
  {
   "cell_type": "code",
   "execution_count": 9,
   "id": "9967dfc2",
   "metadata": {},
   "outputs": [],
   "source": [
    "students = ('anand','arshad','naveen','padma','bhanu')"
   ]
  },
  {
   "cell_type": "code",
   "execution_count": 2,
   "id": "8b8e7a76",
   "metadata": {},
   "outputs": [
    {
     "data": {
      "text/plain": [
       "tuple"
      ]
     },
     "execution_count": 2,
     "metadata": {},
     "output_type": "execute_result"
    }
   ],
   "source": [
    "type(students)"
   ]
  },
  {
   "cell_type": "code",
   "execution_count": null,
   "id": "970121f7",
   "metadata": {},
   "outputs": [],
   "source": [
    "#req : i want to change anand name to arun...?"
   ]
  },
  {
   "cell_type": "code",
   "execution_count": 3,
   "id": "efb2806c",
   "metadata": {},
   "outputs": [
    {
     "ename": "TypeError",
     "evalue": "'tuple' object does not support item assignment",
     "output_type": "error",
     "traceback": [
      "\u001b[1;31m---------------------------------------------------------------------------\u001b[0m",
      "\u001b[1;31mTypeError\u001b[0m                                 Traceback (most recent call last)",
      "\u001b[1;32m~\\AppData\\Local\\Temp\\ipykernel_6124\\3199117314.py\u001b[0m in \u001b[0;36m<module>\u001b[1;34m\u001b[0m\n\u001b[1;32m----> 1\u001b[1;33m \u001b[0mstudents\u001b[0m\u001b[1;33m[\u001b[0m\u001b[1;36m0\u001b[0m\u001b[1;33m]\u001b[0m\u001b[1;33m=\u001b[0m\u001b[1;34m'arun'\u001b[0m\u001b[1;33m\u001b[0m\u001b[1;33m\u001b[0m\u001b[0m\n\u001b[0m",
      "\u001b[1;31mTypeError\u001b[0m: 'tuple' object does not support item assignment"
     ]
    }
   ],
   "source": [
    "students[0]='arun'"
   ]
  },
  {
   "cell_type": "code",
   "execution_count": 6,
   "id": "15e819b4",
   "metadata": {},
   "outputs": [],
   "source": [
    "dimensions = (200,50)"
   ]
  },
  {
   "cell_type": "code",
   "execution_count": 7,
   "id": "f281fea1",
   "metadata": {},
   "outputs": [
    {
     "name": "stdout",
     "output_type": "stream",
     "text": [
      "(200, 50)\n"
     ]
    }
   ],
   "source": [
    "print(dimensions)"
   ]
  },
  {
   "cell_type": "code",
   "execution_count": 10,
   "id": "31ed4ac5",
   "metadata": {},
   "outputs": [
    {
     "name": "stdout",
     "output_type": "stream",
     "text": [
      "('anand', 'arshad', 'naveen', 'padma', 'bhanu')\n"
     ]
    }
   ],
   "source": [
    "print(students)"
   ]
  },
  {
   "cell_type": "code",
   "execution_count": 11,
   "id": "0094f8cf",
   "metadata": {},
   "outputs": [
    {
     "name": "stdout",
     "output_type": "stream",
     "text": [
      "Arshad\n"
     ]
    }
   ],
   "source": [
    "print(students[1].title())"
   ]
  },
  {
   "cell_type": "code",
   "execution_count": 12,
   "id": "5e9407bc",
   "metadata": {},
   "outputs": [
    {
     "name": "stdout",
     "output_type": "stream",
     "text": [
      "anand\n",
      "arshad\n",
      "naveen\n",
      "padma\n",
      "bhanu\n"
     ]
    }
   ],
   "source": [
    "for x in students:\n",
    "    print(x)"
   ]
  },
  {
   "cell_type": "code",
   "execution_count": null,
   "id": "59b206f9",
   "metadata": {},
   "outputs": [],
   "source": [
    "Introduction to dictionary data type:*****"
   ]
  },
  {
   "cell_type": "code",
   "execution_count": null,
   "id": "c7d98920",
   "metadata": {},
   "outputs": [],
   "source": [
    "definition:a dictionary are a combination of key-value pairs.\n",
    "    classification:it is classified as mutable data type.\n",
    "        how to declare a dictionary: { }"
   ]
  },
  {
   "cell_type": "code",
   "execution_count": null,
   "id": "7865303e",
   "metadata": {},
   "outputs": [],
   "source": [
    "Note :in almost all the real world applications dict data types are used...!"
   ]
  },
  {
   "cell_type": "code",
   "execution_count": null,
   "id": "e0129aa6",
   "metadata": {},
   "outputs": [],
   "source": [
    "#req: creating an alien "
   ]
  },
  {
   "cell_type": "code",
   "execution_count": 6,
   "id": "31fd7e6f",
   "metadata": {},
   "outputs": [
    {
     "name": "stdout",
     "output_type": "stream",
     "text": [
      "{'color': 'green', 'points': 5, 'level': 1}\n"
     ]
    }
   ],
   "source": [
    "alien={'color':'green','points':5,'level':1}  #key:value,key:value,key:value\n",
    "print(alien)"
   ]
  },
  {
   "cell_type": "code",
   "execution_count": 7,
   "id": "5aacc523",
   "metadata": {},
   "outputs": [
    {
     "data": {
      "text/plain": [
       "dict"
      ]
     },
     "execution_count": 7,
     "metadata": {},
     "output_type": "execute_result"
    }
   ],
   "source": [
    "type(alien)"
   ]
  },
  {
   "cell_type": "code",
   "execution_count": null,
   "id": "342f7e5b",
   "metadata": {},
   "outputs": [],
   "source": [
    "# how to access the value from the dictionary"
   ]
  },
  {
   "cell_type": "code",
   "execution_count": null,
   "id": "9a2bb950",
   "metadata": {},
   "outputs": [],
   "source": [
    "#req:i want to know the color of the alien"
   ]
  },
  {
   "cell_type": "code",
   "execution_count": 8,
   "id": "0dff1446",
   "metadata": {},
   "outputs": [
    {
     "name": "stdout",
     "output_type": "stream",
     "text": [
      "green\n"
     ]
    }
   ],
   "source": [
    "print(alien['color'])"
   ]
  },
  {
   "cell_type": "code",
   "execution_count": null,
   "id": "6de2ddf6",
   "metadata": {},
   "outputs": [],
   "source": [
    "Key in the dictionaries act as index! vice versa is nt true"
   ]
  },
  {
   "cell_type": "code",
   "execution_count": 9,
   "id": "6b4f83c6",
   "metadata": {},
   "outputs": [
    {
     "name": "stdout",
     "output_type": "stream",
     "text": [
      "5\n"
     ]
    }
   ],
   "source": [
    "print(alien['points'])"
   ]
  },
  {
   "cell_type": "code",
   "execution_count": 11,
   "id": "c4d773d1",
   "metadata": {},
   "outputs": [
    {
     "ename": "KeyError",
     "evalue": "1",
     "output_type": "error",
     "traceback": [
      "\u001b[1;31m---------------------------------------------------------------------------\u001b[0m",
      "\u001b[1;31mKeyError\u001b[0m                                  Traceback (most recent call last)",
      "\u001b[1;32m~\\AppData\\Local\\Temp\\ipykernel_2632\\2937663479.py\u001b[0m in \u001b[0;36m<module>\u001b[1;34m\u001b[0m\n\u001b[1;32m----> 1\u001b[1;33m \u001b[0mprint\u001b[0m\u001b[1;33m(\u001b[0m\u001b[0malien\u001b[0m\u001b[1;33m[\u001b[0m\u001b[1;36m1\u001b[0m\u001b[1;33m]\u001b[0m\u001b[1;33m)\u001b[0m\u001b[1;33m\u001b[0m\u001b[1;33m\u001b[0m\u001b[0m\n\u001b[0m",
      "\u001b[1;31mKeyError\u001b[0m: 1"
     ]
    }
   ],
   "source": [
    "print(alien[1])"
   ]
  },
  {
   "cell_type": "code",
   "execution_count": 12,
   "id": "7d657da9",
   "metadata": {},
   "outputs": [
    {
     "name": "stdout",
     "output_type": "stream",
     "text": [
      "{'color': 'green', 'points': 5, 'level': 1}\n"
     ]
    }
   ],
   "source": [
    "print(alien)"
   ]
  },
  {
   "cell_type": "code",
   "execution_count": null,
   "id": "afd8d5a9",
   "metadata": {},
   "outputs": [],
   "source": [
    "#req :how to add new key value pairs to the dictionary?"
   ]
  },
  {
   "cell_type": "code",
   "execution_count": null,
   "id": "707bd247",
   "metadata": {},
   "outputs": [],
   "source": [
    "#req: current_status :'beginner'"
   ]
  },
  {
   "cell_type": "code",
   "execution_count": 13,
   "id": "882f61b8",
   "metadata": {},
   "outputs": [],
   "source": [
    "alien['current_status']='beginner'"
   ]
  },
  {
   "cell_type": "code",
   "execution_count": 14,
   "id": "81d99e23",
   "metadata": {},
   "outputs": [
    {
     "name": "stdout",
     "output_type": "stream",
     "text": [
      "{'color': 'green', 'points': 5, 'level': 1, 'current_status': 'beginner'}\n"
     ]
    }
   ],
   "source": [
    "print(alien)"
   ]
  },
  {
   "cell_type": "code",
   "execution_count": null,
   "id": "7e291072",
   "metadata": {},
   "outputs": [],
   "source": [
    "#req: how to  modify the value?"
   ]
  },
  {
   "cell_type": "code",
   "execution_count": null,
   "id": "bd8d50d6",
   "metadata": {},
   "outputs": [],
   "source": [
    "#color----->yellow..?"
   ]
  },
  {
   "cell_type": "code",
   "execution_count": 15,
   "id": "4a8be89a",
   "metadata": {},
   "outputs": [],
   "source": [
    "alien['color']='yellow'"
   ]
  },
  {
   "cell_type": "code",
   "execution_count": 16,
   "id": "191c9c3c",
   "metadata": {},
   "outputs": [
    {
     "name": "stdout",
     "output_type": "stream",
     "text": [
      "{'color': 'yellow', 'points': 5, 'level': 1, 'current_status': 'beginner'}\n"
     ]
    }
   ],
   "source": [
    "print(alien)"
   ]
  },
  {
   "cell_type": "code",
   "execution_count": null,
   "id": "558b953c",
   "metadata": {},
   "outputs": [],
   "source": [
    "#how to delete the key value pairs from the dictionary?"
   ]
  },
  {
   "cell_type": "code",
   "execution_count": null,
   "id": "1a778740",
   "metadata": {},
   "outputs": [],
   "source": [
    "#points"
   ]
  },
  {
   "cell_type": "code",
   "execution_count": 17,
   "id": "bf790b99",
   "metadata": {},
   "outputs": [],
   "source": [
    "del alien['points']"
   ]
  },
  {
   "cell_type": "code",
   "execution_count": 18,
   "id": "486f40c5",
   "metadata": {},
   "outputs": [
    {
     "name": "stdout",
     "output_type": "stream",
     "text": [
      "{'color': 'yellow', 'level': 1, 'current_status': 'beginner'}\n"
     ]
    }
   ],
   "source": [
    "print(alien)"
   ]
  },
  {
   "cell_type": "code",
   "execution_count": null,
   "id": "25c24d94",
   "metadata": {},
   "outputs": [],
   "source": [
    "#req: create your facebook account"
   ]
  },
  {
   "cell_type": "code",
   "execution_count": 19,
   "id": "46715c71",
   "metadata": {},
   "outputs": [],
   "source": [
    "account = {'first_name':'code','last_name':'training','user_name':'ct_academy','dob':'01-01-2003','pwd':'54321'}"
   ]
  },
  {
   "cell_type": "code",
   "execution_count": 20,
   "id": "3d1ca445",
   "metadata": {},
   "outputs": [
    {
     "name": "stdout",
     "output_type": "stream",
     "text": [
      "{'first_name': 'code', 'last_name': 'training', 'user_name': 'ct_academy', 'dob': '01-01-2003', 'pwd': '54321'}\n"
     ]
    }
   ],
   "source": [
    "print(account)"
   ]
  },
  {
   "cell_type": "code",
   "execution_count": null,
   "id": "85cf6235",
   "metadata": {},
   "outputs": [],
   "source": [
    "#location:farzi_cafe"
   ]
  },
  {
   "cell_type": "code",
   "execution_count": 21,
   "id": "a5ef3547",
   "metadata": {},
   "outputs": [],
   "source": [
    "account['location']='farzi_cafe'"
   ]
  },
  {
   "cell_type": "code",
   "execution_count": 22,
   "id": "f0fb0d63",
   "metadata": {},
   "outputs": [
    {
     "name": "stdout",
     "output_type": "stream",
     "text": [
      "{'first_name': 'code', 'last_name': 'training', 'user_name': 'ct_academy', 'dob': '01-01-2003', 'pwd': '54321', 'location': 'farzi_cafe'}\n"
     ]
    }
   ],
   "source": [
    "print(account)"
   ]
  },
  {
   "cell_type": "code",
   "execution_count": null,
   "id": "b6aa2cf3",
   "metadata": {},
   "outputs": [],
   "source": []
  }
 ],
 "metadata": {
  "kernelspec": {
   "display_name": "Python 3 (ipykernel)",
   "language": "python",
   "name": "python3"
  },
  "language_info": {
   "codemirror_mode": {
    "name": "ipython",
    "version": 3
   },
   "file_extension": ".py",
   "mimetype": "text/x-python",
   "name": "python",
   "nbconvert_exporter": "python",
   "pygments_lexer": "ipython3",
   "version": "3.9.13"
  }
 },
 "nbformat": 4,
 "nbformat_minor": 5
}
