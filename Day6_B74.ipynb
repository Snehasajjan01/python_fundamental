{
 "cells": [
  {
   "cell_type": "code",
   "execution_count": null,
   "id": "d62986b1",
   "metadata": {},
   "outputs": [],
   "source": [
    "Introduction to looping statements:"
   ]
  },
  {
   "cell_type": "code",
   "execution_count": null,
   "id": "deefc34e",
   "metadata": {},
   "outputs": [],
   "source": [
    "For loop"
   ]
  },
  {
   "cell_type": "code",
   "execution_count": null,
   "id": "39e8a1f9",
   "metadata": {},
   "outputs": [],
   "source": [
    "General syntax for loop"
   ]
  },
  {
   "cell_type": "code",
   "execution_count": null,
   "id": "6fc22f9c",
   "metadata": {},
   "outputs": [],
   "source": [
    "#formulae\n",
    "for temp_var in main_var:\n",
    "    print(temp_var)"
   ]
  },
  {
   "cell_type": "code",
   "execution_count": 2,
   "id": "4152d9fd",
   "metadata": {},
   "outputs": [],
   "source": [
    "students = ['sunil','naveen','abdul','snehal','iqra','sadiya'] "
   ]
  },
  {
   "cell_type": "code",
   "execution_count": 3,
   "id": "9efc2a32",
   "metadata": {},
   "outputs": [
    {
     "name": "stdout",
     "output_type": "stream",
     "text": [
      "['sunil', 'naveen', 'abdul', 'snehal', 'iqra', 'sadiya']\n"
     ]
    }
   ],
   "source": [
    "print(students)"
   ]
  },
  {
   "cell_type": "code",
   "execution_count": 4,
   "id": "259c520c",
   "metadata": {},
   "outputs": [
    {
     "data": {
      "text/plain": [
       "list"
      ]
     },
     "execution_count": 4,
     "metadata": {},
     "output_type": "execute_result"
    }
   ],
   "source": [
    "type(students)"
   ]
  },
  {
   "cell_type": "code",
   "execution_count": null,
   "id": "e165d917",
   "metadata": {},
   "outputs": [],
   "source": [
    "#req : i want to appreciate the above students in the list...."
   ]
  },
  {
   "cell_type": "code",
   "execution_count": 5,
   "id": "0f8ae406",
   "metadata": {},
   "outputs": [
    {
     "name": "stdout",
     "output_type": "stream",
     "text": [
      "keep up the good work,Naveen\n"
     ]
    }
   ],
   "source": [
    "print(f\"keep up the good work,{students[1].title()}\")"
   ]
  },
  {
   "cell_type": "code",
   "execution_count": 6,
   "id": "d92ce98c",
   "metadata": {},
   "outputs": [
    {
     "name": "stdout",
     "output_type": "stream",
     "text": [
      "keep up the good work,Sunil\n"
     ]
    }
   ],
   "source": [
    "print(f\"keep up the good work,{students[0].title()}\")"
   ]
  },
  {
   "cell_type": "code",
   "execution_count": 9,
   "id": "2d64fff0",
   "metadata": {},
   "outputs": [
    {
     "name": "stdout",
     "output_type": "stream",
     "text": [
      "keep up the good work, sunil\n",
      "keep up the good work, naveen\n",
      "keep up the good work, abdul\n",
      "keep up the good work, snehal\n",
      "keep up the good work, iqra\n",
      "keep up the good work, sadiya\n"
     ]
    }
   ],
   "source": [
    "for x in students:\n",
    "    print(f\"keep up the good work, {x}\")"
   ]
  },
  {
   "cell_type": "code",
   "execution_count": 10,
   "id": "2f59bc60",
   "metadata": {},
   "outputs": [
    {
     "name": "stdout",
     "output_type": "stream",
     "text": [
      "keep up the good work,{students[1].title()}\n"
     ]
    }
   ],
   "source": [
    "print(\"keep up the good work,{students[1].title()}\")"
   ]
  },
  {
   "cell_type": "code",
   "execution_count": null,
   "id": "65854e58",
   "metadata": {},
   "outputs": [],
   "source": [
    "for temp_var in main_var:\n",
    "    "
   ]
  },
  {
   "cell_type": "code",
   "execution_count": null,
   "id": "f2ef79ed",
   "metadata": {},
   "outputs": [],
   "source": [
    "#req:i want to remind them that i will be "
   ]
  },
  {
   "cell_type": "code",
   "execution_count": 11,
   "id": "d7886fbd",
   "metadata": {},
   "outputs": [
    {
     "name": "stdout",
     "output_type": "stream",
     "text": [
      "keep up the good work,sunil\n",
      "i will be looking foward for todays submission, sunil\n",
      "keep up the good work,naveen\n",
      "i will be looking foward for todays submission, naveen\n",
      "keep up the good work,abdul\n",
      "i will be looking foward for todays submission, abdul\n",
      "keep up the good work,snehal\n",
      "i will be looking foward for todays submission, snehal\n",
      "keep up the good work,iqra\n",
      "i will be looking foward for todays submission, iqra\n",
      "keep up the good work,sadiya\n",
      "i will be looking foward for todays submission, sadiya\n"
     ]
    }
   ],
   "source": [
    "for x in students:\n",
    "    print(f\"keep up the good work,{x}\")\n",
    "    print(f\"i will be looking foward for todays submission, {x}\")"
   ]
  },
  {
   "cell_type": "code",
   "execution_count": null,
   "id": "2ca32df2",
   "metadata": {},
   "outputs": [],
   "source": [
    "# enhancement of the code...!"
   ]
  },
  {
   "cell_type": "code",
   "execution_count": 12,
   "id": "a96e2d26",
   "metadata": {},
   "outputs": [
    {
     "name": "stdout",
     "output_type": "stream",
     "text": [
      "keep up the good work,sunil\n",
      "i will be looking foward for todays submission, sunil\n",
      "\n",
      "keep up the good work,naveen\n",
      "i will be looking foward for todays submission, naveen\n",
      "\n",
      "keep up the good work,abdul\n",
      "i will be looking foward for todays submission, abdul\n",
      "\n",
      "keep up the good work,snehal\n",
      "i will be looking foward for todays submission, snehal\n",
      "\n",
      "keep up the good work,iqra\n",
      "i will be looking foward for todays submission, iqra\n",
      "\n",
      "keep up the good work,sadiya\n",
      "i will be looking foward for todays submission, sadiya\n",
      "\n"
     ]
    }
   ],
   "source": [
    "for x in students:\n",
    "    print(f\"keep up the good work,{x}\")\n",
    "    print(f\"i will be looking foward for todays submission, {x}\\n\")"
   ]
  },
  {
   "cell_type": "code",
   "execution_count": null,
   "id": "53896522",
   "metadata": {},
   "outputs": [],
   "source": []
  },
  {
   "cell_type": "code",
   "execution_count": null,
   "id": "a98f7366",
   "metadata": {},
   "outputs": [],
   "source": []
  },
  {
   "cell_type": "code",
   "execution_count": null,
   "id": "7134344b",
   "metadata": {},
   "outputs": [],
   "source": []
  },
  {
   "cell_type": "code",
   "execution_count": null,
   "id": "68cf970e",
   "metadata": {},
   "outputs": [],
   "source": []
  },
  {
   "cell_type": "code",
   "execution_count": null,
   "id": "940bd335",
   "metadata": {},
   "outputs": [],
   "source": []
  },
  {
   "cell_type": "code",
   "execution_count": null,
   "id": "0cbe3250",
   "metadata": {},
   "outputs": [],
   "source": []
  }
 ],
 "metadata": {
  "kernelspec": {
   "display_name": "Python 3 (ipykernel)",
   "language": "python",
   "name": "python3"
  },
  "language_info": {
   "codemirror_mode": {
    "name": "ipython",
    "version": 3
   },
   "file_extension": ".py",
   "mimetype": "text/x-python",
   "name": "python",
   "nbconvert_exporter": "python",
   "pygments_lexer": "ipython3",
   "version": "3.9.13"
  }
 },
 "nbformat": 4,
 "nbformat_minor": 5
}
