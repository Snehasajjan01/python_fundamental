{
 "cells": [
  {
   "cell_type": "code",
   "execution_count": null,
   "id": "bb3d0487",
   "metadata": {},
   "outputs": [],
   "source": [
    "Introduction to python functions:"
   ]
  },
  {
   "cell_type": "code",
   "execution_count": 1,
   "id": "1a238600",
   "metadata": {},
   "outputs": [],
   "source": [
    "#declaring the function\n",
    "def greet():\n",
    "    print('Hello')"
   ]
  },
  {
   "cell_type": "code",
   "execution_count": 2,
   "id": "3fbf4904",
   "metadata": {},
   "outputs": [
    {
     "name": "stdout",
     "output_type": "stream",
     "text": [
      "Hello\n"
     ]
    }
   ],
   "source": [
    "greet() # calling the function"
   ]
  },
  {
   "cell_type": "code",
   "execution_count": null,
   "id": "5fc9bb80",
   "metadata": {},
   "outputs": [],
   "source": [
    "Understanding the concept of parameters and arguements:"
   ]
  },
  {
   "cell_type": "code",
   "execution_count": null,
   "id": "3ea9c490",
   "metadata": {},
   "outputs": [],
   "source": [
    "#req: create a function called pet_details\n",
    "#define the parameters as pet_name and animal_type "
   ]
  },
  {
   "cell_type": "code",
   "execution_count": 3,
   "id": "2b230ac3",
   "metadata": {},
   "outputs": [],
   "source": [
    "def pet_details(pet_name,animal_type):  # these are called as parameters # params\n",
    "    print(f\"my animal name is {pet_name}\")\n",
    "    print(f\"my pet is a {animal_type}\")"
   ]
  },
  {
   "cell_type": "code",
   "execution_count": 4,
   "id": "6ce09373",
   "metadata": {},
   "outputs": [
    {
     "name": "stdout",
     "output_type": "stream",
     "text": [
      "my animal name is sundari\n",
      "my pet is a dog\n"
     ]
    }
   ],
   "source": [
    "pet_details('sundari','dog') # arguements passing # args"
   ]
  },
  {
   "cell_type": "code",
   "execution_count": 6,
   "id": "4c5f4a73",
   "metadata": {},
   "outputs": [
    {
     "name": "stdout",
     "output_type": "stream",
     "text": [
      "my animal name is jerry\n",
      "my pet is a cat\n"
     ]
    }
   ],
   "source": [
    "pet_details('jerry','cat')"
   ]
  },
  {
   "cell_type": "code",
   "execution_count": null,
   "id": "5cc8ace8",
   "metadata": {},
   "outputs": [],
   "source": [
    "Types of arguements:\n",
    "    1.Positional\n",
    "    2.Keyword\n",
    "    3.Default "
   ]
  },
  {
   "cell_type": "code",
   "execution_count": 7,
   "id": "fbe98202",
   "metadata": {},
   "outputs": [
    {
     "name": "stdout",
     "output_type": "stream",
     "text": [
      "my animal name is rabbit\n",
      "my pet is a ruby\n"
     ]
    }
   ],
   "source": [
    "pet_details('rabbit','ruby') =====>wrong"
   ]
  },
  {
   "cell_type": "code",
   "execution_count": 8,
   "id": "0c74730a",
   "metadata": {},
   "outputs": [
    {
     "name": "stdout",
     "output_type": "stream",
     "text": [
      "my animal name is ruby\n",
      "my pet is a rabbit\n"
     ]
    }
   ],
   "source": [
    "pet_details('ruby','rabbit') =====>correct"
   ]
  },
  {
   "cell_type": "code",
   "execution_count": 9,
   "id": "e85d9948",
   "metadata": {},
   "outputs": [
    {
     "name": "stdout",
     "output_type": "stream",
     "text": [
      "my animal name is ruby\n",
      "my pet is a rabbit\n"
     ]
    }
   ],
   "source": [
    "pet_details(animal_type='rabbit',pet_name='ruby')"
   ]
  },
  {
   "cell_type": "code",
   "execution_count": null,
   "id": "738832d6",
   "metadata": {},
   "outputs": [],
   "source": []
  }
 ],
 "metadata": {
  "kernelspec": {
   "display_name": "Python 3 (ipykernel)",
   "language": "python",
   "name": "python3"
  },
  "language_info": {
   "codemirror_mode": {
    "name": "ipython",
    "version": 3
   },
   "file_extension": ".py",
   "mimetype": "text/x-python",
   "name": "python",
   "nbconvert_exporter": "python",
   "pygments_lexer": "ipython3",
   "version": "3.9.13"
  }
 },
 "nbformat": 4,
 "nbformat_minor": 5
}
