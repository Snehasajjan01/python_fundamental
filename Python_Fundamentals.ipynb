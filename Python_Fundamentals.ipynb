{
 "cells": [
  {
   "cell_type": "code",
   "execution_count": null,
   "id": "be2088ba",
   "metadata": {},
   "outputs": [],
   "source": [
    "Working with LIST datatypes"
   ]
  },
  {
   "cell_type": "code",
   "execution_count": 2,
   "id": "7d96e55b",
   "metadata": {},
   "outputs": [],
   "source": [
    "cars = ['kia', 'merc', 'honda','tata', 'nissan', 'bmw','audi']"
   ]
  },
  {
   "cell_type": "code",
   "execution_count": null,
   "id": "6085b11c",
   "metadata": {},
   "outputs": [],
   "source": [
    "#req : list the elements in alphabetical order"
   ]
  },
  {
   "cell_type": "code",
   "execution_count": null,
   "id": "e6257cc3",
   "metadata": {},
   "outputs": [],
   "source": [
    "two approaches :\n",
    "    \n",
    "    1.temporary approach : sorted -----> we can maintain the original order of the elements in the list\n",
    "    2. Permanent approach : sort -----> "
   ]
  },
  {
   "cell_type": "code",
   "execution_count": 3,
   "id": "f70634a6",
   "metadata": {},
   "outputs": [
    {
     "name": "stdout",
     "output_type": "stream",
     "text": [
      "['audi', 'bmw', 'honda', 'kia', 'merc', 'nissan', 'tata']\n"
     ]
    }
   ],
   "source": [
    "print(sorted(cars))  #temporary approach"
   ]
  },
  {
   "cell_type": "code",
   "execution_count": 4,
   "id": "d402bd9e",
   "metadata": {},
   "outputs": [
    {
     "name": "stdout",
     "output_type": "stream",
     "text": [
      "['kia', 'merc', 'honda', 'tata', 'nissan', 'bmw', 'audi']\n"
     ]
    }
   ],
   "source": [
    "print(cars)  #original order remains same"
   ]
  },
  {
   "cell_type": "code",
   "execution_count": 8,
   "id": "009bfccc",
   "metadata": {},
   "outputs": [
    {
     "name": "stdout",
     "output_type": "stream",
     "text": [
      "['audi', 'bmw', 'honda', 'kia', 'merc', 'nissan', 'tata']\n"
     ]
    }
   ],
   "source": [
    "cars.sort()\n",
    "print(cars) #lost the original order "
   ]
  },
  {
   "cell_type": "code",
   "execution_count": null,
   "id": "bb52d3f9",
   "metadata": {},
   "outputs": [],
   "source": [
    "\n",
    "#print the list in the reverse alphabetical order"
   ]
  },
  {
   "cell_type": "code",
   "execution_count": 9,
   "id": "44c85e53",
   "metadata": {},
   "outputs": [
    {
     "name": "stdout",
     "output_type": "stream",
     "text": [
      "['tata', 'nissan', 'merc', 'kia', 'honda', 'bmw', 'audi']\n"
     ]
    }
   ],
   "source": [
    "cars.reverse()\n",
    "print(cars)"
   ]
  },
  {
   "cell_type": "code",
   "execution_count": null,
   "id": "06518af9",
   "metadata": {},
   "outputs": [],
   "source": [
    "#req number of elements in the list"
   ]
  },
  {
   "cell_type": "code",
   "execution_count": 10,
   "id": "c5ec971c",
   "metadata": {},
   "outputs": [
    {
     "data": {
      "text/plain": [
       "7"
      ]
     },
     "execution_count": 10,
     "metadata": {},
     "output_type": "execute_result"
    }
   ],
   "source": [
    "len(cars)"
   ]
  },
  {
   "cell_type": "code",
   "execution_count": null,
   "id": "1514b78c",
   "metadata": {},
   "outputs": [],
   "source": [
    "INTRODUCTION TO SLICING :"
   ]
  },
  {
   "cell_type": "code",
   "execution_count": 11,
   "id": "0ebfca2a",
   "metadata": {},
   "outputs": [],
   "source": [
    "students = ['akhil', 'chandra', 'sneha', 'david', 'ramesh','hemanth']"
   ]
  },
  {
   "cell_type": "code",
   "execution_count": 12,
   "id": "4c5a7056",
   "metadata": {},
   "outputs": [
    {
     "name": "stdout",
     "output_type": "stream",
     "text": [
      "['akhil', 'chandra', 'sneha', 'david', 'ramesh', 'hemanth']\n"
     ]
    }
   ],
   "source": [
    "print(students)"
   ]
  },
  {
   "cell_type": "code",
   "execution_count": 13,
   "id": "7c0604cd",
   "metadata": {},
   "outputs": [
    {
     "data": {
      "text/plain": [
       "list"
      ]
     },
     "execution_count": 13,
     "metadata": {},
     "output_type": "execute_result"
    }
   ],
   "source": [
    "type(students)"
   ]
  },
  {
   "cell_type": "code",
   "execution_count": null,
   "id": "60a38c03",
   "metadata": {},
   "outputs": [],
   "source": [
    "general syntax of slicing\n",
    "\n",
    "[startvalue : stopvalue : stepsize]  #stop vale is always exclusive, to make it inclusive need to increment the index by 1"
   ]
  },
  {
   "cell_type": "code",
   "execution_count": null,
   "id": "dddb1f63",
   "metadata": {},
   "outputs": [],
   "source": [
    "#req want akhil and chandra as output"
   ]
  },
  {
   "cell_type": "code",
   "execution_count": 14,
   "id": "4383e4d9",
   "metadata": {},
   "outputs": [
    {
     "data": {
      "text/plain": [
       "['akhil', 'chandra']"
      ]
     },
     "execution_count": 14,
     "metadata": {},
     "output_type": "execute_result"
    }
   ],
   "source": [
    "students[0:2]"
   ]
  },
  {
   "cell_type": "code",
   "execution_count": null,
   "id": "390fe38d",
   "metadata": {},
   "outputs": [],
   "source": [
    "#req: want sneha and david as output"
   ]
  },
  {
   "cell_type": "code",
   "execution_count": 15,
   "id": "ccd1d41d",
   "metadata": {},
   "outputs": [
    {
     "data": {
      "text/plain": [
       "['sneha', 'david']"
      ]
     },
     "execution_count": 15,
     "metadata": {},
     "output_type": "execute_result"
    }
   ],
   "source": [
    "students[2:4]"
   ]
  },
  {
   "cell_type": "code",
   "execution_count": null,
   "id": "1faac5c7",
   "metadata": {},
   "outputs": [],
   "source": [
    "#req:  want ramesh and hemanth as output"
   ]
  },
  {
   "cell_type": "code",
   "execution_count": 16,
   "id": "5112f162",
   "metadata": {},
   "outputs": [
    {
     "data": {
      "text/plain": [
       "['ramesh', 'hemanth']"
      ]
     },
     "execution_count": 16,
     "metadata": {},
     "output_type": "execute_result"
    }
   ],
   "source": [
    "students[4:6]"
   ]
  },
  {
   "cell_type": "code",
   "execution_count": 17,
   "id": "4c9fed19",
   "metadata": {},
   "outputs": [
    {
     "data": {
      "text/plain": [
       "['ramesh', 'hemanth']"
      ]
     },
     "execution_count": 17,
     "metadata": {},
     "output_type": "execute_result"
    }
   ],
   "source": [
    "students[4:]"
   ]
  },
  {
   "cell_type": "code",
   "execution_count": null,
   "id": "1ae8e118",
   "metadata": {},
   "outputs": [],
   "source": []
  }
 ],
 "metadata": {
  "kernelspec": {
   "display_name": "Python 3 (ipykernel)",
   "language": "python",
   "name": "python3"
  },
  "language_info": {
   "codemirror_mode": {
    "name": "ipython",
    "version": 3
   },
   "file_extension": ".py",
   "mimetype": "text/x-python",
   "name": "python",
   "nbconvert_exporter": "python",
   "pygments_lexer": "ipython3",
   "version": "3.9.13"
  }
 },
 "nbformat": 4,
 "nbformat_minor": 5
}
