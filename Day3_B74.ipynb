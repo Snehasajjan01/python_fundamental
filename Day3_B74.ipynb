{
 "cells": [
  {
   "cell_type": "code",
   "execution_count": null,
   "id": "a5b7a58e",
   "metadata": {},
   "outputs": [],
   "source": [
    "Continuation of String data type:"
   ]
  },
  {
   "cell_type": "code",
   "execution_count": null,
   "id": "a95405df",
   "metadata": {},
   "outputs": [],
   "source": []
  },
  {
   "cell_type": "code",
   "execution_count": 4,
   "id": "9b1a9809",
   "metadata": {},
   "outputs": [],
   "source": [
    "first_name='bharat'\n",
    "last_name='reddy'"
   ]
  },
  {
   "cell_type": "code",
   "execution_count": null,
   "id": "dd4233b4",
   "metadata": {},
   "outputs": [],
   "source": [
    "#req : I want to get the full name ?"
   ]
  },
  {
   "cell_type": "code",
   "execution_count": null,
   "id": "2105cc4f",
   "metadata": {},
   "outputs": [],
   "source": [
    "understanding the concept of f string\""
   ]
  },
  {
   "cell_type": "code",
   "execution_count": null,
   "id": "8afee2ee",
   "metadata": {},
   "outputs": [],
   "source": [
    "# general syntax of f strings"
   ]
  },
  {
   "cell_type": "code",
   "execution_count": null,
   "id": "d0438707",
   "metadata": {},
   "outputs": [],
   "source": [
    "f\" custom words {place_holder -1} {placeholder-2}....{place_holder ---n }\""
   ]
  },
  {
   "cell_type": "code",
   "execution_count": 5,
   "id": "82d11288",
   "metadata": {},
   "outputs": [
    {
     "name": "stdout",
     "output_type": "stream",
     "text": [
      "bharatreddy\n"
     ]
    }
   ],
   "source": [
    "full_name =f\"{first_name}{last_name}\"\n",
    "print(full_name)"
   ]
  },
  {
   "cell_type": "code",
   "execution_count": 6,
   "id": "cd2297cf",
   "metadata": {},
   "outputs": [
    {
     "name": "stdout",
     "output_type": "stream",
     "text": [
      "bharat reddy\n"
     ]
    }
   ],
   "source": [
    "full_name = f\"{first_name} {last_name}\"\n",
    "print(full_name)"
   ]
  },
  {
   "cell_type": "code",
   "execution_count": 7,
   "id": "43373d14",
   "metadata": {},
   "outputs": [
    {
     "name": "stdout",
     "output_type": "stream",
     "text": [
      "keep up the good work, Bharat Reddy\n"
     ]
    }
   ],
   "source": [
    "message = f\"keep up the good work, {full_name.title()}\"\n",
    "print(message)"
   ]
  },
  {
   "cell_type": "code",
   "execution_count": null,
   "id": "9b31c911",
   "metadata": {},
   "outputs": [],
   "source": [
    "Adding the whitespaces :"
   ]
  },
  {
   "cell_type": "code",
   "execution_count": 8,
   "id": "82a8df4b",
   "metadata": {},
   "outputs": [
    {
     "name": "stdout",
     "output_type": "stream",
     "text": [
      "favorite_programming_language:pythonjavaC++swiftpascalcobal\n"
     ]
    }
   ],
   "source": [
    "print(\"favorite_programming_language:pythonjavaC++swiftpascalcobal\")"
   ]
  },
  {
   "cell_type": "code",
   "execution_count": null,
   "id": "129f8718",
   "metadata": {},
   "outputs": [],
   "source": [
    "\\n --->it is called as new line delimiter"
   ]
  },
  {
   "cell_type": "code",
   "execution_count": 9,
   "id": "04c9b45a",
   "metadata": {},
   "outputs": [
    {
     "name": "stdout",
     "output_type": "stream",
     "text": [
      "favorite_programming_language:\n",
      "python\n",
      "java\n",
      "C++\n",
      "swift\n",
      "pascal\n",
      "cobal\n"
     ]
    }
   ],
   "source": [
    "print(\"favorite_programming_language:\\npython\\njava\\nC++\\nswift\\npascal\\ncobal\")"
   ]
  },
  {
   "cell_type": "code",
   "execution_count": null,
   "id": "2d22f3b8",
   "metadata": {},
   "outputs": [],
   "source": [
    "\\t ===> tab delimiter"
   ]
  },
  {
   "cell_type": "code",
   "execution_count": 10,
   "id": "e3f4f15b",
   "metadata": {},
   "outputs": [
    {
     "name": "stdout",
     "output_type": "stream",
     "text": [
      "favorite_programming_language:\n",
      "\tpython\n",
      "\tjava\n",
      "\tC++\n",
      "\tswift\n",
      "\tpascal\n",
      "\tcobal\n"
     ]
    }
   ],
   "source": [
    "print(\"favorite_programming_language:\\n\\tpython\\n\\tjava\\n\\tC++\\n\\tswift\\n\\tpascal\\n\\tcobal\")"
   ]
  },
  {
   "cell_type": "code",
   "execution_count": null,
   "id": "6e840cec",
   "metadata": {},
   "outputs": [],
   "source": [
    "Removing white spaces from strings:"
   ]
  },
  {
   "cell_type": "code",
   "execution_count": 11,
   "id": "dba5dfc8",
   "metadata": {},
   "outputs": [
    {
     "name": "stdout",
     "output_type": "stream",
     "text": [
      "python\n"
     ]
    }
   ],
   "source": [
    "name = 'python'\n",
    "print(name)"
   ]
  },
  {
   "cell_type": "code",
   "execution_count": 12,
   "id": "feedb690",
   "metadata": {},
   "outputs": [
    {
     "name": "stdout",
     "output_type": "stream",
     "text": [
      "     python\n"
     ]
    }
   ],
   "source": [
    "name2 ='     python'\n",
    "print(name2)"
   ]
  },
  {
   "cell_type": "code",
   "execution_count": 13,
   "id": "5cfd2969",
   "metadata": {},
   "outputs": [
    {
     "name": "stdout",
     "output_type": "stream",
     "text": [
      "python   \n"
     ]
    }
   ],
   "source": [
    "name3 = 'python   '\n",
    "print(name3)"
   ]
  },
  {
   "cell_type": "code",
   "execution_count": 14,
   "id": "b2434d62",
   "metadata": {},
   "outputs": [
    {
     "data": {
      "text/plain": [
       "'python'"
      ]
     },
     "execution_count": 14,
     "metadata": {},
     "output_type": "execute_result"
    }
   ],
   "source": [
    "name2.lstrip()"
   ]
  },
  {
   "cell_type": "code",
   "execution_count": 15,
   "id": "cc16b9ee",
   "metadata": {},
   "outputs": [
    {
     "data": {
      "text/plain": [
       "'python'"
      ]
     },
     "execution_count": 15,
     "metadata": {},
     "output_type": "execute_result"
    }
   ],
   "source": [
    "name3.rstrip()"
   ]
  },
  {
   "cell_type": "code",
   "execution_count": 17,
   "id": "65141115",
   "metadata": {},
   "outputs": [
    {
     "name": "stdout",
     "output_type": "stream",
     "text": [
      "   python  \n"
     ]
    }
   ],
   "source": [
    "name4= '   python  '\n",
    "print(name4)"
   ]
  },
  {
   "cell_type": "code",
   "execution_count": 18,
   "id": "7844b04a",
   "metadata": {},
   "outputs": [
    {
     "data": {
      "text/plain": [
       "'python'"
      ]
     },
     "execution_count": 18,
     "metadata": {},
     "output_type": "execute_result"
    }
   ],
   "source": [
    "name4.strip()"
   ]
  },
  {
   "cell_type": "code",
   "execution_count": null,
   "id": "83202543",
   "metadata": {},
   "outputs": [],
   "source": []
  },
  {
   "cell_type": "code",
   "execution_count": null,
   "id": "dbe8c55f",
   "metadata": {},
   "outputs": [],
   "source": []
  },
  {
   "cell_type": "code",
   "execution_count": null,
   "id": "d1726582",
   "metadata": {},
   "outputs": [],
   "source": []
  },
  {
   "cell_type": "code",
   "execution_count": null,
   "id": "0919f753",
   "metadata": {},
   "outputs": [],
   "source": []
  }
 ],
 "metadata": {
  "kernelspec": {
   "display_name": "Python 3 (ipykernel)",
   "language": "python",
   "name": "python3"
  },
  "language_info": {
   "codemirror_mode": {
    "name": "ipython",
    "version": 3
   },
   "file_extension": ".py",
   "mimetype": "text/x-python",
   "name": "python",
   "nbconvert_exporter": "python",
   "pygments_lexer": "ipython3",
   "version": "3.9.13"
  }
 },
 "nbformat": 4,
 "nbformat_minor": 5
}
