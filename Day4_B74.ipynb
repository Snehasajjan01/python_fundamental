{
 "cells": [
  {
   "cell_type": "code",
   "execution_count": null,
   "id": "3ecbd8e8",
   "metadata": {},
   "outputs": [],
   "source": [
    "Introduction to list datatype:"
   ]
  },
  {
   "cell_type": "code",
   "execution_count": null,
   "id": "960e2eaa",
   "metadata": {},
   "outputs": [],
   "source": [
    "definition:A list is a collection of items declared in a particular order.\n",
    "    Classification:it is classified as an mutable datatype\n",
    "        how to declare the list datatype....?====>[]"
   ]
  },
  {
   "cell_type": "code",
   "execution_count": null,
   "id": "0a0e08f4",
   "metadata": {},
   "outputs": [],
   "source": []
  },
  {
   "cell_type": "code",
   "execution_count": 2,
   "id": "e0f73a23",
   "metadata": {},
   "outputs": [],
   "source": [
    "students = ['ravi','divya','sadiya','naveen','ahmed','suresh']"
   ]
  },
  {
   "cell_type": "code",
   "execution_count": 3,
   "id": "8a255f0f",
   "metadata": {},
   "outputs": [
    {
     "name": "stdout",
     "output_type": "stream",
     "text": [
      "['ravi', 'divya', 'sadiya', 'naveen', 'ahmed', 'suresh']\n"
     ]
    }
   ],
   "source": [
    "print(students)"
   ]
  },
  {
   "cell_type": "code",
   "execution_count": 4,
   "id": "108b2ae6",
   "metadata": {},
   "outputs": [
    {
     "data": {
      "text/plain": [
       "list"
      ]
     },
     "execution_count": 4,
     "metadata": {},
     "output_type": "execute_result"
    }
   ],
   "source": [
    "type(students)"
   ]
  },
  {
   "cell_type": "code",
   "execution_count": null,
   "id": "732046d7",
   "metadata": {},
   "outputs": [],
   "source": [
    "Introducction to indexing:0,1,2,4........"
   ]
  },
  {
   "cell_type": "code",
   "execution_count": null,
   "id": "def11048",
   "metadata": {},
   "outputs": [],
   "source": [
    "#req:i want to get the divyas name in the op..?"
   ]
  },
  {
   "cell_type": "code",
   "execution_count": 6,
   "id": "1c710e99",
   "metadata": {},
   "outputs": [
    {
     "name": "stdout",
     "output_type": "stream",
     "text": [
      "divya\n"
     ]
    }
   ],
   "source": [
    "print(students[1])"
   ]
  },
  {
   "cell_type": "code",
   "execution_count": 7,
   "id": "18dafd85",
   "metadata": {},
   "outputs": [
    {
     "name": "stdout",
     "output_type": "stream",
     "text": [
      "ahmed\n"
     ]
    }
   ],
   "source": [
    "print(students[4])"
   ]
  },
  {
   "cell_type": "code",
   "execution_count": 8,
   "id": "8aeb582b",
   "metadata": {},
   "outputs": [
    {
     "name": "stdout",
     "output_type": "stream",
     "text": [
      "Ahmed\n"
     ]
    }
   ],
   "source": [
    "print(students[4].title())"
   ]
  },
  {
   "cell_type": "code",
   "execution_count": 9,
   "id": "bdeb892a",
   "metadata": {},
   "outputs": [
    {
     "name": "stdout",
     "output_type": "stream",
     "text": [
      "['ravi', 'divya', 'sadiya', 'naveen', 'ahmed', 'suresh']\n"
     ]
    }
   ],
   "source": [
    "print(students)"
   ]
  },
  {
   "cell_type": "markdown",
   "id": "38199718",
   "metadata": {},
   "source": [
    "1.How to add new students to the list..?"
   ]
  },
  {
   "cell_type": "code",
   "execution_count": null,
   "id": "6c6dcba2",
   "metadata": {},
   "outputs": [],
   "source": [
    "2.How to modify the students in the list...?"
   ]
  },
  {
   "cell_type": "code",
   "execution_count": null,
   "id": "3481ad5b",
   "metadata": {},
   "outputs": [],
   "source": [
    "3.How to delete the students in the list..?"
   ]
  },
  {
   "cell_type": "code",
   "execution_count": null,
   "id": "fcf7fd1f",
   "metadata": {},
   "outputs": [],
   "source": [
    "#req:i want to add Anand to the above list..?"
   ]
  },
  {
   "cell_type": "code",
   "execution_count": 10,
   "id": "36f02df9",
   "metadata": {},
   "outputs": [
    {
     "name": "stdout",
     "output_type": "stream",
     "text": [
      "['ravi', 'divya', 'sadiya', 'naveen', 'ahmed', 'suresh', 'anand']\n"
     ]
    }
   ],
   "source": [
    "students.append('anand')\n",
    "print(students)"
   ]
  },
  {
   "cell_type": "code",
   "execution_count": null,
   "id": "f68c0ea3",
   "metadata": {},
   "outputs": [],
   "source": [
    "#req:swathi"
   ]
  },
  {
   "cell_type": "code",
   "execution_count": 11,
   "id": "2f205be8",
   "metadata": {},
   "outputs": [
    {
     "name": "stdout",
     "output_type": "stream",
     "text": [
      "['ravi', 'divya', 'sadiya', 'naveen', 'ahmed', 'suresh', 'anand', 'swathi']\n"
     ]
    }
   ],
   "source": [
    "students.append('swathi')\n",
    "print(students)"
   ]
  },
  {
   "cell_type": "code",
   "execution_count": null,
   "id": "300d1c07",
   "metadata": {},
   "outputs": [],
   "source": [
    "#req :deepa--.2nd index"
   ]
  },
  {
   "cell_type": "code",
   "execution_count": 12,
   "id": "06d5714a",
   "metadata": {},
   "outputs": [
    {
     "name": "stdout",
     "output_type": "stream",
     "text": [
      "['ravi', 'divya', 'deepa', 'sadiya', 'naveen', 'ahmed', 'suresh', 'anand', 'swathi']\n"
     ]
    }
   ],
   "source": [
    "students.insert(2,'deepa')\n",
    "print(students)"
   ]
  },
  {
   "cell_type": "code",
   "execution_count": 13,
   "id": "d9f6a404",
   "metadata": {},
   "outputs": [
    {
     "name": "stdout",
     "output_type": "stream",
     "text": [
      "Deepa\n"
     ]
    }
   ],
   "source": [
    "print(students[2].title())"
   ]
  },
  {
   "cell_type": "raw",
   "id": "e8ab753f",
   "metadata": {},
   "source": [
    "Interview question:Can you pls expalin what is diff btw append and insert mmethod in the list data type?"
   ]
  },
  {
   "cell_type": "code",
   "execution_count": 14,
   "id": "66e2a9c3",
   "metadata": {},
   "outputs": [
    {
     "name": "stdout",
     "output_type": "stream",
     "text": [
      "['ravi', 'divya', 'deepa', 'sadiya', 'naveen', 'ahmed', 'suresh', 'anand', 'swathi']\n"
     ]
    }
   ],
   "source": [
    "print(students)"
   ]
  },
  {
   "cell_type": "code",
   "execution_count": null,
   "id": "122808f1",
   "metadata": {},
   "outputs": [],
   "source": [
    "#req:Want to modify ravi name to raju..?"
   ]
  },
  {
   "cell_type": "code",
   "execution_count": 16,
   "id": "790b239e",
   "metadata": {},
   "outputs": [
    {
     "name": "stdout",
     "output_type": "stream",
     "text": [
      "['raju', 'divya', 'deepa', 'sadiya', 'naveen', 'ahmed', 'suresh', 'anand', 'swathi']\n"
     ]
    }
   ],
   "source": [
    "students[0]='raju'\n",
    "print(students)"
   ]
  },
  {
   "cell_type": "code",
   "execution_count": 17,
   "id": "23f43d99",
   "metadata": {},
   "outputs": [
    {
     "name": "stdout",
     "output_type": "stream",
     "text": [
      "['raju', 'divya', 'deepa', 'sadiya', 'ahmed', 'suresh', 'anand', 'swathi']\n"
     ]
    }
   ],
   "source": [
    "del students[4] ====>permenant deleting:\n",
    "print(students)"
   ]
  },
  {
   "cell_type": "code",
   "execution_count": null,
   "id": "97443450",
   "metadata": {},
   "outputs": [],
   "source": [
    "pop---->by default it will be deleting last element from the list and will be saving in the variable assigned "
   ]
  },
  {
   "cell_type": "code",
   "execution_count": 19,
   "id": "98489663",
   "metadata": {},
   "outputs": [
    {
     "name": "stdout",
     "output_type": "stream",
     "text": [
      "['raju', 'divya', 'deepa', 'sadiya', 'ahmed', 'suresh', 'anand']\n"
     ]
    }
   ],
   "source": [
    "x = students.pop()\n",
    "print(students)"
   ]
  },
  {
   "cell_type": "code",
   "execution_count": null,
   "id": "3fcf676e",
   "metadata": {},
   "outputs": [],
   "source": [
    "interview question:What is the difference betwwen delete and pop?"
   ]
  },
  {
   "cell_type": "code",
   "execution_count": null,
   "id": "d0dd02b3",
   "metadata": {},
   "outputs": [],
   "source": [
    "Introduction to nagative indexing:-1,-2,-3....:reverse indexing."
   ]
  },
  {
   "cell_type": "code",
   "execution_count": 20,
   "id": "5b1d3bd5",
   "metadata": {},
   "outputs": [
    {
     "name": "stdout",
     "output_type": "stream",
     "text": [
      "['raju', 'divya', 'deepa', 'sadiya', 'ahmed', 'suresh', 'anand']\n"
     ]
    }
   ],
   "source": [
    "print(students)"
   ]
  },
  {
   "cell_type": "code",
   "execution_count": 21,
   "id": "e773d08c",
   "metadata": {},
   "outputs": [
    {
     "name": "stdout",
     "output_type": "stream",
     "text": [
      "anand\n"
     ]
    }
   ],
   "source": [
    "print(students[-1])"
   ]
  },
  {
   "cell_type": "code",
   "execution_count": 22,
   "id": "8a02c238",
   "metadata": {},
   "outputs": [
    {
     "name": "stdout",
     "output_type": "stream",
     "text": [
      "suresh\n"
     ]
    }
   ],
   "source": [
    "print(students[-2])"
   ]
  }
 ],
 "metadata": {
  "kernelspec": {
   "display_name": "Python 3 (ipykernel)",
   "language": "python",
   "name": "python3"
  },
  "language_info": {
   "codemirror_mode": {
    "name": "ipython",
    "version": 3
   },
   "file_extension": ".py",
   "mimetype": "text/x-python",
   "name": "python",
   "nbconvert_exporter": "python",
   "pygments_lexer": "ipython3",
   "version": "3.9.13"
  }
 },
 "nbformat": 4,
 "nbformat_minor": 5
}
