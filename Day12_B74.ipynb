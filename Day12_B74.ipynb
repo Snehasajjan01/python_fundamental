{
 "cells": [
  {
   "cell_type": "code",
   "execution_count": null,
   "id": "e3133c39",
   "metadata": {},
   "outputs": [],
   "source": [
    "Introduction to Python Classes:"
   ]
  },
  {
   "cell_type": "code",
   "execution_count": null,
   "id": "6c723493",
   "metadata": {},
   "outputs": [],
   "source": [
    "Class: it is a blue print of the program defined at a high level,=====>we have to use a keyword called class\n",
    "Method : A function written inside the class is called as a method----def\n",
    "attribute : a variable written\\declared inside the class is called as an attribute\n",
    "Self : A self is a temporary placeholder for an object\n",
    "Object/instance:it is an access /entry point to access the class methods."
   ]
  },
  {
   "cell_type": "code",
   "execution_count": null,
   "id": "32b798cb",
   "metadata": {},
   "outputs": [],
   "source": []
  },
  {
   "cell_type": "code",
   "execution_count": 3,
   "id": "891a5869",
   "metadata": {},
   "outputs": [],
   "source": [
    "class ClassName:  #class name\n",
    "    def createname(self,name):  #method\n",
    "        self.name = name    # attribute test.name='sneha'\n",
    "    def displayname(self): # method\n",
    "        return self.name\n",
    "    def greetname(self): #method\n",
    "        print(f\"hello, {self.name}\")"
   ]
  },
  {
   "cell_type": "code",
   "execution_count": 4,
   "id": "5d0f1b58",
   "metadata": {},
   "outputs": [],
   "source": [
    "test = ClassName()"
   ]
  },
  {
   "cell_type": "code",
   "execution_count": 5,
   "id": "b1636e31",
   "metadata": {},
   "outputs": [],
   "source": [
    "test.createname('Sneha')"
   ]
  },
  {
   "cell_type": "code",
   "execution_count": 6,
   "id": "f217c201",
   "metadata": {},
   "outputs": [
    {
     "data": {
      "text/plain": [
       "'Sneha'"
      ]
     },
     "execution_count": 6,
     "metadata": {},
     "output_type": "execute_result"
    }
   ],
   "source": [
    "test.displayname()"
   ]
  },
  {
   "cell_type": "code",
   "execution_count": 7,
   "id": "e40c00b8",
   "metadata": {},
   "outputs": [
    {
     "name": "stdout",
     "output_type": "stream",
     "text": [
      "hello, Sneha\n"
     ]
    }
   ],
   "source": [
    "test.greetname()"
   ]
  },
  {
   "cell_type": "code",
   "execution_count": null,
   "id": "f79877dd",
   "metadata": {},
   "outputs": [],
   "source": []
  },
  {
   "cell_type": "code",
   "execution_count": null,
   "id": "0435c267",
   "metadata": {},
   "outputs": [],
   "source": [
    "OOPs ------>OBJECT ORIENTED PROGRAMMING"
   ]
  },
  {
   "cell_type": "code",
   "execution_count": null,
   "id": "ceedfce2",
   "metadata": {},
   "outputs": [],
   "source": [
    "Understanding the concept of Constructor: it is also called as special method"
   ]
  },
  {
   "cell_type": "code",
   "execution_count": null,
   "id": "ead85c26",
   "metadata": {},
   "outputs": [],
   "source": [
    "__init__ =====>intializing the attributes and the methods."
   ]
  },
  {
   "cell_type": "code",
   "execution_count": null,
   "id": "49cfbabc",
   "metadata": {},
   "outputs": [],
   "source": []
  },
  {
   "cell_type": "code",
   "execution_count": 17,
   "id": "5a02da1e",
   "metadata": {},
   "outputs": [],
   "source": [
    "class Dog:\n",
    "    \"\"\"creating the dog class\"\"\" #doc string\n",
    "    def __init__(self,name,age):\n",
    "        self.name = name\n",
    "        self.age = age\n",
    "    def sit(self):\n",
    "        print(\"the dog is sitting\")\n",
    "    def roll_over(self):\n",
    "        print(f\"the dog is rolling over\")\n",
    "    def details(self):\n",
    "        print(f\"I have a dog named {self.name}\")\n",
    "        print(f\"It is of {self.age} years old\")"
   ]
  },
  {
   "cell_type": "code",
   "execution_count": 19,
   "id": "ba8b19ee",
   "metadata": {},
   "outputs": [
    {
     "ename": "TypeError",
     "evalue": "__init__() missing 2 required positional arguments: 'name' and 'age'",
     "output_type": "error",
     "traceback": [
      "\u001b[1;31m---------------------------------------------------------------------------\u001b[0m",
      "\u001b[1;31mTypeError\u001b[0m                                 Traceback (most recent call last)",
      "\u001b[1;32m~\\AppData\\Local\\Temp\\ipykernel_9260\\3226080032.py\u001b[0m in \u001b[0;36m<module>\u001b[1;34m\u001b[0m\n\u001b[1;32m----> 1\u001b[1;33m \u001b[0mmy_dog\u001b[0m \u001b[1;33m=\u001b[0m \u001b[0mDog\u001b[0m\u001b[1;33m(\u001b[0m\u001b[1;33m)\u001b[0m\u001b[1;33m\u001b[0m\u001b[1;33m\u001b[0m\u001b[0m\n\u001b[0m",
      "\u001b[1;31mTypeError\u001b[0m: __init__() missing 2 required positional arguments: 'name' and 'age'"
     ]
    }
   ],
   "source": [
    "my_dog = Dog()"
   ]
  },
  {
   "cell_type": "code",
   "execution_count": 20,
   "id": "3c52d96c",
   "metadata": {},
   "outputs": [],
   "source": [
    "my_dog = Dog('bruno',6)"
   ]
  },
  {
   "cell_type": "code",
   "execution_count": 21,
   "id": "531f6ec2",
   "metadata": {},
   "outputs": [
    {
     "name": "stdout",
     "output_type": "stream",
     "text": [
      "the dog is sitting\n"
     ]
    }
   ],
   "source": [
    "my_dog.sit()"
   ]
  },
  {
   "cell_type": "code",
   "execution_count": 23,
   "id": "6e15e238",
   "metadata": {},
   "outputs": [
    {
     "name": "stdout",
     "output_type": "stream",
     "text": [
      "the dog is rolling over\n"
     ]
    }
   ],
   "source": [
    "my_dog.roll_over()"
   ]
  },
  {
   "cell_type": "code",
   "execution_count": 22,
   "id": "db804acf",
   "metadata": {},
   "outputs": [
    {
     "name": "stdout",
     "output_type": "stream",
     "text": [
      "I have a dog named bruno\n",
      "It is of 6 years old\n"
     ]
    }
   ],
   "source": [
    "my_dog.details()"
   ]
  },
  {
   "cell_type": "code",
   "execution_count": 24,
   "id": "212896cf",
   "metadata": {},
   "outputs": [],
   "source": [
    "your_dog = Dog('rex',3)"
   ]
  },
  {
   "cell_type": "code",
   "execution_count": 25,
   "id": "857c8fdb",
   "metadata": {},
   "outputs": [
    {
     "name": "stdout",
     "output_type": "stream",
     "text": [
      "the dog is rolling over\n"
     ]
    }
   ],
   "source": [
    "your_dog.roll_over()"
   ]
  },
  {
   "cell_type": "code",
   "execution_count": 26,
   "id": "a3f4c25d",
   "metadata": {},
   "outputs": [
    {
     "name": "stdout",
     "output_type": "stream",
     "text": [
      "the dog is sitting\n"
     ]
    }
   ],
   "source": [
    "your_dog.sit()"
   ]
  },
  {
   "cell_type": "code",
   "execution_count": null,
   "id": "3dc92bb4",
   "metadata": {},
   "outputs": [],
   "source": []
  }
 ],
 "metadata": {
  "kernelspec": {
   "display_name": "Python 3 (ipykernel)",
   "language": "python",
   "name": "python3"
  },
  "language_info": {
   "codemirror_mode": {
    "name": "ipython",
    "version": 3
   },
   "file_extension": ".py",
   "mimetype": "text/x-python",
   "name": "python",
   "nbconvert_exporter": "python",
   "pygments_lexer": "ipython3",
   "version": "3.9.13"
  }
 },
 "nbformat": 4,
 "nbformat_minor": 5
}
