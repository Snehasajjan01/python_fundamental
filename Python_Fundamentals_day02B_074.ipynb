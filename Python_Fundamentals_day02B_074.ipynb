{
 "cells": [
  {
   "cell_type": "code",
   "execution_count": 1,
   "id": "6ba224c7",
   "metadata": {},
   "outputs": [],
   "source": [
    "x=5"
   ]
  },
  {
   "cell_type": "code",
   "execution_count": 2,
   "id": "d4930db5",
   "metadata": {},
   "outputs": [],
   "source": [
    "y=2"
   ]
  },
  {
   "cell_type": "code",
   "execution_count": 3,
   "id": "f815df29",
   "metadata": {},
   "outputs": [],
   "source": [
    "z=x+y"
   ]
  },
  {
   "cell_type": "code",
   "execution_count": 4,
   "id": "492ebdfa",
   "metadata": {},
   "outputs": [
    {
     "name": "stdout",
     "output_type": "stream",
     "text": [
      "7\n"
     ]
    }
   ],
   "source": [
    "print(z)"
   ]
  },
  {
   "cell_type": "code",
   "execution_count": 5,
   "id": "8e67a7c4",
   "metadata": {},
   "outputs": [
    {
     "ename": "SyntaxError",
     "evalue": "invalid syntax (3799989285.py, line 1)",
     "output_type": "error",
     "traceback": [
      "\u001b[1;36m  File \u001b[1;32m\"C:\\Users\\sneha\\AppData\\Local\\Temp\\ipykernel_1828\\3799989285.py\"\u001b[1;36m, line \u001b[1;32m1\u001b[0m\n\u001b[1;33m    Rules for declaraing the variables in pyhton\u001b[0m\n\u001b[1;37m          ^\u001b[0m\n\u001b[1;31mSyntaxError\u001b[0m\u001b[1;31m:\u001b[0m invalid syntax\n"
     ]
    }
   ],
   "source": [
    "Rules for declaraing the variables in pyhton"
   ]
  },
  {
   "cell_type": "code",
   "execution_count": null,
   "id": "e5e60ed7",
   "metadata": {},
   "outputs": [],
   "source": [
    "Rule 1:No namespaces while declaraing the variable in the python.\n",
    "    "
   ]
  },
  {
   "cell_type": "code",
   "execution_count": 6,
   "id": "c9c0354e",
   "metadata": {},
   "outputs": [
    {
     "ename": "SyntaxError",
     "evalue": "invalid syntax (762008837.py, line 1)",
     "output_type": "error",
     "traceback": [
      "\u001b[1;36m  File \u001b[1;32m\"C:\\Users\\sneha\\AppData\\Local\\Temp\\ipykernel_1828\\762008837.py\"\u001b[1;36m, line \u001b[1;32m1\u001b[0m\n\u001b[1;33m    first name='Sneha'\u001b[0m\n\u001b[1;37m          ^\u001b[0m\n\u001b[1;31mSyntaxError\u001b[0m\u001b[1;31m:\u001b[0m invalid syntax\n"
     ]
    }
   ],
   "source": [
    "first name='Sneha'\n",
    "print(first name)"
   ]
  },
  {
   "cell_type": "code",
   "execution_count": 7,
   "id": "ce9b7323",
   "metadata": {},
   "outputs": [
    {
     "name": "stdout",
     "output_type": "stream",
     "text": [
      "Sneha\n"
     ]
    }
   ],
   "source": [
    "firstname='Sneha'\n",
    "print(firstname)"
   ]
  },
  {
   "cell_type": "code",
   "execution_count": null,
   "id": "63ad9809",
   "metadata": {},
   "outputs": [],
   "source": [
    "Rule 2:A variable name should not start with a number."
   ]
  },
  {
   "cell_type": "code",
   "execution_count": 8,
   "id": "475d06de",
   "metadata": {},
   "outputs": [
    {
     "ename": "SyntaxError",
     "evalue": "invalid syntax (2675598899.py, line 1)",
     "output_type": "error",
     "traceback": [
      "\u001b[1;36m  File \u001b[1;32m\"C:\\Users\\sneha\\AppData\\Local\\Temp\\ipykernel_1828\\2675598899.py\"\u001b[1;36m, line \u001b[1;32m1\u001b[0m\n\u001b[1;33m    1name='Rahul'\u001b[0m\n\u001b[1;37m     ^\u001b[0m\n\u001b[1;31mSyntaxError\u001b[0m\u001b[1;31m:\u001b[0m invalid syntax\n"
     ]
    }
   ],
   "source": [
    "1name='Rahul'\n",
    "print(1name)"
   ]
  },
  {
   "cell_type": "code",
   "execution_count": 9,
   "id": "75a13ffb",
   "metadata": {},
   "outputs": [
    {
     "name": "stdout",
     "output_type": "stream",
     "text": [
      "rahul\n"
     ]
    }
   ],
   "source": [
    "name1='rahul'\n",
    "print(name1)"
   ]
  },
  {
   "cell_type": "markdown",
   "id": "7bfc4948",
   "metadata": {},
   "source": []
  },
  {
   "cell_type": "code",
   "execution_count": null,
   "id": "66747aa8",
   "metadata": {},
   "outputs": [],
   "source": [
    "Rule 3:A variable name should not contain any special characters."
   ]
  },
  {
   "cell_type": "code",
   "execution_count": 10,
   "id": "44625eab",
   "metadata": {},
   "outputs": [
    {
     "ename": "SyntaxError",
     "evalue": "invalid syntax (1178595495.py, line 2)",
     "output_type": "error",
     "traceback": [
      "\u001b[1;36m  File \u001b[1;32m\"C:\\Users\\sneha\\AppData\\Local\\Temp\\ipykernel_1828\\1178595495.py\"\u001b[1;36m, line \u001b[1;32m2\u001b[0m\n\u001b[1;33m    print(name@)\u001b[0m\n\u001b[1;37m               ^\u001b[0m\n\u001b[1;31mSyntaxError\u001b[0m\u001b[1;31m:\u001b[0m invalid syntax\n"
     ]
    }
   ],
   "source": [
    "name@='divya'\n",
    "print(name@)"
   ]
  },
  {
   "cell_type": "code",
   "execution_count": null,
   "id": "f08e3cd9",
   "metadata": {},
   "outputs": [],
   "source": [
    "Introduction to data types in python:"
   ]
  },
  {
   "cell_type": "code",
   "execution_count": null,
   "id": "6459104f",
   "metadata": {},
   "outputs": [],
   "source": [
    "Strings ======>str"
   ]
  },
  {
   "cell_type": "code",
   "execution_count": null,
   "id": "130ed612",
   "metadata": {},
   "outputs": [],
   "source": [
    "Lists ======>list"
   ]
  },
  {
   "cell_type": "code",
   "execution_count": null,
   "id": "a56ef956",
   "metadata": {},
   "outputs": [],
   "source": [
    "Numbers ===integers(int) and float(decimal)"
   ]
  },
  {
   "cell_type": "code",
   "execution_count": null,
   "id": "a0f42b50",
   "metadata": {},
   "outputs": [],
   "source": [
    "Tuples====tuple"
   ]
  },
  {
   "cell_type": "code",
   "execution_count": null,
   "id": "c7904877",
   "metadata": {},
   "outputs": [],
   "source": [
    "Dictionaries====dict"
   ]
  },
  {
   "cell_type": "code",
   "execution_count": null,
   "id": "ae9ce8b0",
   "metadata": {},
   "outputs": [],
   "source": [
    "Classification of data types:"
   ]
  },
  {
   "cell_type": "code",
   "execution_count": null,
   "id": "adf17202",
   "metadata": {},
   "outputs": [],
   "source": [
    "Mutable data type==which we can edit/alter,flexible in nature and Immutable data type==which we cannot edit/alter,fixed in nature."
   ]
  },
  {
   "cell_type": "code",
   "execution_count": null,
   "id": "7f1a21a1",
   "metadata": {},
   "outputs": [],
   "source": [
    "Introducton to String datatype:"
   ]
  },
  {
   "cell_type": "code",
   "execution_count": null,
   "id": "77da3f70",
   "metadata": {},
   "outputs": [],
   "source": []
  },
  {
   "cell_type": "code",
   "execution_count": null,
   "id": "64bb2252",
   "metadata": {},
   "outputs": [],
   "source": [
    "definition:A string is a series of characters declared in quotes.\n",
    "    "
   ]
  },
  {
   "cell_type": "code",
   "execution_count": null,
   "id": "bc9d4040",
   "metadata": {},
   "outputs": [],
   "source": [
    "Classification:Immutable"
   ]
  },
  {
   "cell_type": "code",
   "execution_count": null,
   "id": "3f29395f",
   "metadata": {},
   "outputs": [],
   "source": [
    "Declaration:1 Single quote\n",
    "            2 Double quote"
   ]
  },
  {
   "cell_type": "code",
   "execution_count": 11,
   "id": "b142a5f9",
   "metadata": {},
   "outputs": [
    {
     "name": "stdout",
     "output_type": "stream",
     "text": [
      "john\n"
     ]
    }
   ],
   "source": [
    "name='john'\n",
    "print(name)"
   ]
  },
  {
   "cell_type": "code",
   "execution_count": 12,
   "id": "d0f84536",
   "metadata": {},
   "outputs": [
    {
     "name": "stdout",
     "output_type": "stream",
     "text": [
      "peter\n"
     ]
    }
   ],
   "source": [
    "name2='peter'\n",
    "print(name2)"
   ]
  },
  {
   "cell_type": "code",
   "execution_count": null,
   "id": "929fa88b",
   "metadata": {},
   "outputs": [],
   "source": [
    "Introduction to String Methods:\n",
    "    Methods are built-in program that are available in python to use directly."
   ]
  },
  {
   "cell_type": "code",
   "execution_count": 13,
   "id": "68b8eb3e",
   "metadata": {},
   "outputs": [
    {
     "name": "stdout",
     "output_type": "stream",
     "text": [
      "bhanu chandra\n"
     ]
    }
   ],
   "source": [
    "fullname='bhanu chandra'\n",
    "print(fullname)"
   ]
  },
  {
   "cell_type": "code",
   "execution_count": null,
   "id": "cbe7abd0",
   "metadata": {},
   "outputs": [],
   "source": [
    "#req:to get in the right format"
   ]
  },
  {
   "cell_type": "code",
   "execution_count": 14,
   "id": "8ecf6f8f",
   "metadata": {},
   "outputs": [
    {
     "name": "stdout",
     "output_type": "stream",
     "text": [
      "Bhanu Chandra\n"
     ]
    }
   ],
   "source": [
    "print(fullname.title())"
   ]
  },
  {
   "cell_type": "code",
   "execution_count": null,
   "id": "e93e7bb4",
   "metadata": {},
   "outputs": [],
   "source": [
    "#req:to get the name in captial letter"
   ]
  },
  {
   "cell_type": "code",
   "execution_count": 15,
   "id": "4c744864",
   "metadata": {},
   "outputs": [
    {
     "name": "stdout",
     "output_type": "stream",
     "text": [
      "BHANU CHANDRA\n"
     ]
    }
   ],
   "source": [
    "print(fullname.upper())"
   ]
  },
  {
   "cell_type": "code",
   "execution_count": null,
   "id": "58e298a4",
   "metadata": {},
   "outputs": [],
   "source": [
    "#req: to get the name in lower letter"
   ]
  },
  {
   "cell_type": "code",
   "execution_count": 16,
   "id": "1c6c9e37",
   "metadata": {},
   "outputs": [
    {
     "name": "stdout",
     "output_type": "stream",
     "text": [
      "bhanu chandra\n"
     ]
    }
   ],
   "source": [
    "print(fullname.lower())"
   ]
  },
  {
   "cell_type": "code",
   "execution_count": null,
   "id": "e7e98585",
   "metadata": {},
   "outputs": [],
   "source": []
  }
 ],
 "metadata": {
  "kernelspec": {
   "display_name": "Python 3 (ipykernel)",
   "language": "python",
   "name": "python3"
  },
  "language_info": {
   "codemirror_mode": {
    "name": "ipython",
    "version": 3
   },
   "file_extension": ".py",
   "mimetype": "text/x-python",
   "name": "python",
   "nbconvert_exporter": "python",
   "pygments_lexer": "ipython3",
   "version": "3.9.13"
  }
 },
 "nbformat": 4,
 "nbformat_minor": 5
}
